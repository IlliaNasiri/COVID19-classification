{
 "cells": [
  {
   "cell_type": "markdown",
   "metadata": {
    "id": "BOVcyX-f4gVC"
   },
   "source": [
    "# Imports"
   ]
  },
  {
   "cell_type": "code",
   "execution_count": 1,
   "metadata": {
    "id": "_WTLxb912Gfb"
   },
   "outputs": [],
   "source": [
    "from sklearn import *\n",
    "\n",
    "from sklearn.model_selection import train_test_split\n",
    "\n",
    "import pandas as pd\n",
    "import numpy as np\n",
    "import seaborn as sb\n",
    "import matplotlib.pyplot as plt\n",
    "import re\n",
    "from sklearn import tree\n",
    "\n",
    "# FOR PART 1\n",
    "import geopandas as gpd\n",
    "\n",
    "from sklearn.preprocessing import StandardScaler\n",
    "from sklearn.pipeline import make_pipeline, Pipeline\n",
    "from sklearn.model_selection import GridSearchCV"
   ]
  },
  {
   "cell_type": "markdown",
   "metadata": {
    "id": "Yj_TZD_q4lzG"
   },
   "source": [
    "# Data import (Part 1 and Part 2)\n"
   ]
  },
  {
   "cell_type": "code",
   "execution_count": 2,
   "metadata": {
    "id": "_jkpmiH6-skJ"
   },
   "outputs": [],
   "source": [
    "train = pd.read_csv(\"cases_2021_train.csv\")\n",
    "test = pd.read_csv(\"cases_2021_test.csv\")\n",
    "location = pd.read_csv(\"location_2021.csv\")"
   ]
  },
  {
   "cell_type": "markdown",
   "metadata": {
    "id": "yszvN0fs--EB"
   },
   "source": [
    "# Visualization (Part 1)\n"
   ]
  },
  {
   "cell_type": "code",
   "execution_count": 3,
   "metadata": {
    "id": "_xGwOvFA_CXZ"
   },
   "outputs": [],
   "source": [
    "# Inspired by the docs: https://geopandas.org/en/v0.9.0/docs/user_guide/mapping.html\n",
    "\n",
    "def visualize(data):\n",
    "  world = gpd.read_file(gpd.datasets.get_path('naturalearth_lowres'))\n",
    "\n",
    "  # we need to know the total size of the dataset, to know the proportion\n",
    "  size = data.shape[0]\n",
    "\n",
    "  # count occurences by country, turn this into a DF, and reset indices so country is a column\n",
    "  grouped = data.groupby(by=\"country\").size().to_frame(name=\"size\").reset_index()\n",
    "\n",
    "  # to account for the huge impalance of data towards india\n",
    "  grouped[\"size\"] = np.log(grouped[\"size\"])\n",
    "\n",
    "  grouped.rename(columns={\"country\": \"name\"}, inplace=True)\n",
    "  merged = world.merge(grouped, how=\"left\", on=\"name\")\n",
    "  merged[\"size\"].fillna(0, inplace=True)\n",
    "\n",
    "  fig, ax = plt.subplots(1, 1)\n",
    "  merged.plot(column=\"size\", ax=ax, cmap=\"seismic\", legend=True, legend_kwds={\"label\": \"log(# of data points by country)\", \"orientation\": \"horizontal\"})"
   ]
  },
  {
   "cell_type": "code",
   "execution_count": null,
   "metadata": {
    "id": "DUEOpDVlC9Fh"
   },
   "outputs": [],
   "source": [
    "visualize(train)"
   ]
  },
  {
   "cell_type": "markdown",
   "metadata": {
    "id": "KTU14BMHApfZ"
   },
   "source": [
    "#Data Preprocessing (Part 2)\n"
   ]
  },
  {
   "cell_type": "code",
   "execution_count": null,
   "metadata": {
    "id": "_QA4BXb3Aooa"
   },
   "outputs": [],
   "source": [
    "modifiedLocation = location.rename(columns = {\"Country_Region\":\"country\", \"Province_State\":\"province\", \"Lat\":\"latitude\", \"Long_\":\"longitude\"})\n",
    "\n",
    "# Inner join of location and cases\n",
    "data = pd.merge(left = modifiedLocation, right = train, on = [\"country\", \"province\"], how = \"inner\", )\n",
    "\n",
    "# Remove all unnecessary columns\n",
    "data = data.drop(columns=[\"additional_information\", \"source\",\"Last_Update\", \"Combined_Key\", \"longitude_x\", \"latitude_x\"])\n",
    "\n",
    "\n",
    "\n",
    "# Drop all the NAs in every column except \"province\"\n",
    "trainData = data.dropna(subset=[\"sex\", \"age\", \"Confirmed\", \"Deaths\", \"Recovered\", \"Active\", \"Case_Fatality_Ratio\", \"Incident_Rate\", \"longitude_y\", \"latitude_y\", \"outcome\", \"chronic_disease_binary\" ])\n",
    "\n",
    "\n",
    "#Remove all duplicates\n",
    "# trainData = data.drop_duplicates()\n",
    "# trainData = data\n",
    "\n",
    "# Prepare outcome_group column by mapping all outcomes to 3 outcome_groups (hospitalized, nonhospitalized, deceased)\n",
    "\n",
    "hospitalizedList = [\"discharge\", \"discharged\", \"stable\",\"stable condition\",\"Receiving Treatment\", \"Hospitalized\"]\n",
    "nonhospitalizedList = [\"Alive\", \"recovered\", \"Recovered\"]\n",
    "deceasedList = [\"death\", \"Deceased\", \"died\"]\n",
    "\n",
    "# write into outcome group\n",
    "conditions = [\n",
    "    trainData[\"outcome\"].isin(hospitalizedList),\n",
    "    trainData[\"outcome\"].isin(nonhospitalizedList),\n",
    "    trainData[\"outcome\"].isin(deceasedList)\n",
    "]\n",
    "\n",
    "values = [\"hospitalized\", \"nonhospitalized\", \"deceased\"]\n",
    "\n",
    "# use the mask to apply values\n",
    "trainData[\"outcome_group\"] = np.select(conditions, values, default=\"\")\n",
    "\n",
    "# Rename and put the columns in the order of reference dataset\n",
    "trainData = trainData.rename(columns= {\"latitude_y\":\"latitude\", \"longitude_y\":\"longitude\"})\n",
    "trainData = trainData[[\"age\", \"sex\", \"province\", \"country\", \"latitude\", \"longitude\", \"date_confirmation\", \"chronic_disease_binary\", \"Confirmed\", \"Deaths\", \"Recovered\", \"Active\", \"Incident_Rate\", \"Case_Fatality_Ratio\", \"outcome_group\"]]\n",
    "trainData = trainData.drop_duplicates()\n",
    "trainData"
   ]
  },
  {
   "cell_type": "markdown",
   "metadata": {
    "id": "U7NeWLK_5dRY"
   },
   "source": [
    "# 3. Feature selection"
   ]
  },
  {
   "cell_type": "markdown",
   "metadata": {
    "id": "xLxylMEYAc4n"
   },
   "source": [
    "## Load The Clean Provided Data"
   ]
  },
  {
   "cell_type": "code",
   "execution_count": 8,
   "metadata": {
    "id": "KsRHLD6_AcWH"
   },
   "outputs": [],
   "source": [
    "data = pd.read_excel(\"./cases_2021_train_processed.xlsx\", parse_dates=[\"date_confirmation\"])\n",
    "unlabelled = pd.read_excel(\"./cases_2021_test_processed_unlabelled.xlsx\", parse_dates=[\"date_confirmation\"])"
   ]
  },
  {
   "cell_type": "code",
   "execution_count": 9,
   "metadata": {
    "id": "CuOK4Ct45oqg"
   },
   "outputs": [],
   "source": [
    "# drop unnecessary attributes\n",
    "data.drop([\"province\", \"date_confirmation\", \"country\", \"latitude\", \"longitude\"], inplace=True, axis=1)\n",
    "unlabelled.drop([\"province\", \"date_confirmation\", \"country\", \"latitude\", \"longitude\"], inplace=True, axis=1)"
   ]
  },
  {
   "cell_type": "markdown",
   "metadata": {
    "id": "QjyegnrC5pXe"
   },
   "source": [
    "# 4. Mapping the features"
   ]
  },
  {
   "cell_type": "code",
   "execution_count": 10,
   "metadata": {
    "id": "HkHpNkgy5tWm",
    "colab": {
     "base_uri": "https://localhost:8080/",
     "height": 423
    },
    "outputId": "86f6e765-125b-46fe-9b52-8a694b98d827"
   },
   "outputs": [
    {
     "output_type": "execute_result",
     "data": {
      "text/plain": [
       "      age  sex  chronic_disease_binary  Confirmed  Deaths  Recovered  Active  \\\n",
       "0      59    0                       0     747288   13297     603746  130245   \n",
       "1      79    1                       0     886673   12719     858075   15879   \n",
       "2      44    0                       0     886673   12719     858075   15879   \n",
       "3      36    1                       0     886673   12719     858075   15879   \n",
       "4      52    1                       0     265527    1576     262371    1580   \n",
       "...   ...  ...                     ...        ...     ...        ...     ...   \n",
       "4299   66    1                       0     997004   12567     956170   28267   \n",
       "4300   66    1                       0     747288   13297     603746  130245   \n",
       "4301   53    0                       0     886673   12719     858075   15879   \n",
       "4302   25    1                       0     886673   12719     858075   15879   \n",
       "4303   34    1                       0     997004   12567     956170   28267   \n",
       "\n",
       "      Incident_Rate  Case_Fatality_Ratio  \n",
       "0        681.949809             1.779368  \n",
       "1       1139.078325             1.434463  \n",
       "2       1139.078325             1.434463  \n",
       "3       1139.078325             1.434463  \n",
       "4        212.762145             0.593537  \n",
       "...             ...                  ...  \n",
       "4299    1475.672533             1.260476  \n",
       "4300     681.949809             1.779368  \n",
       "4301    1139.078325             1.434463  \n",
       "4302    1139.078325             1.434463  \n",
       "4303    1475.672533             1.260476  \n",
       "\n",
       "[4304 rows x 9 columns]"
      ],
      "text/html": [
       "\n",
       "  <div id=\"df-f2e051d3-7865-4de5-87e4-5139b02d78b5\" class=\"colab-df-container\">\n",
       "    <div>\n",
       "<style scoped>\n",
       "    .dataframe tbody tr th:only-of-type {\n",
       "        vertical-align: middle;\n",
       "    }\n",
       "\n",
       "    .dataframe tbody tr th {\n",
       "        vertical-align: top;\n",
       "    }\n",
       "\n",
       "    .dataframe thead th {\n",
       "        text-align: right;\n",
       "    }\n",
       "</style>\n",
       "<table border=\"1\" class=\"dataframe\">\n",
       "  <thead>\n",
       "    <tr style=\"text-align: right;\">\n",
       "      <th></th>\n",
       "      <th>age</th>\n",
       "      <th>sex</th>\n",
       "      <th>chronic_disease_binary</th>\n",
       "      <th>Confirmed</th>\n",
       "      <th>Deaths</th>\n",
       "      <th>Recovered</th>\n",
       "      <th>Active</th>\n",
       "      <th>Incident_Rate</th>\n",
       "      <th>Case_Fatality_Ratio</th>\n",
       "    </tr>\n",
       "  </thead>\n",
       "  <tbody>\n",
       "    <tr>\n",
       "      <th>0</th>\n",
       "      <td>59</td>\n",
       "      <td>0</td>\n",
       "      <td>0</td>\n",
       "      <td>747288</td>\n",
       "      <td>13297</td>\n",
       "      <td>603746</td>\n",
       "      <td>130245</td>\n",
       "      <td>681.949809</td>\n",
       "      <td>1.779368</td>\n",
       "    </tr>\n",
       "    <tr>\n",
       "      <th>1</th>\n",
       "      <td>79</td>\n",
       "      <td>1</td>\n",
       "      <td>0</td>\n",
       "      <td>886673</td>\n",
       "      <td>12719</td>\n",
       "      <td>858075</td>\n",
       "      <td>15879</td>\n",
       "      <td>1139.078325</td>\n",
       "      <td>1.434463</td>\n",
       "    </tr>\n",
       "    <tr>\n",
       "      <th>2</th>\n",
       "      <td>44</td>\n",
       "      <td>0</td>\n",
       "      <td>0</td>\n",
       "      <td>886673</td>\n",
       "      <td>12719</td>\n",
       "      <td>858075</td>\n",
       "      <td>15879</td>\n",
       "      <td>1139.078325</td>\n",
       "      <td>1.434463</td>\n",
       "    </tr>\n",
       "    <tr>\n",
       "      <th>3</th>\n",
       "      <td>36</td>\n",
       "      <td>1</td>\n",
       "      <td>0</td>\n",
       "      <td>886673</td>\n",
       "      <td>12719</td>\n",
       "      <td>858075</td>\n",
       "      <td>15879</td>\n",
       "      <td>1139.078325</td>\n",
       "      <td>1.434463</td>\n",
       "    </tr>\n",
       "    <tr>\n",
       "      <th>4</th>\n",
       "      <td>52</td>\n",
       "      <td>1</td>\n",
       "      <td>0</td>\n",
       "      <td>265527</td>\n",
       "      <td>1576</td>\n",
       "      <td>262371</td>\n",
       "      <td>1580</td>\n",
       "      <td>212.762145</td>\n",
       "      <td>0.593537</td>\n",
       "    </tr>\n",
       "    <tr>\n",
       "      <th>...</th>\n",
       "      <td>...</td>\n",
       "      <td>...</td>\n",
       "      <td>...</td>\n",
       "      <td>...</td>\n",
       "      <td>...</td>\n",
       "      <td>...</td>\n",
       "      <td>...</td>\n",
       "      <td>...</td>\n",
       "      <td>...</td>\n",
       "    </tr>\n",
       "    <tr>\n",
       "      <th>4299</th>\n",
       "      <td>66</td>\n",
       "      <td>1</td>\n",
       "      <td>0</td>\n",
       "      <td>997004</td>\n",
       "      <td>12567</td>\n",
       "      <td>956170</td>\n",
       "      <td>28267</td>\n",
       "      <td>1475.672533</td>\n",
       "      <td>1.260476</td>\n",
       "    </tr>\n",
       "    <tr>\n",
       "      <th>4300</th>\n",
       "      <td>66</td>\n",
       "      <td>1</td>\n",
       "      <td>0</td>\n",
       "      <td>747288</td>\n",
       "      <td>13297</td>\n",
       "      <td>603746</td>\n",
       "      <td>130245</td>\n",
       "      <td>681.949809</td>\n",
       "      <td>1.779368</td>\n",
       "    </tr>\n",
       "    <tr>\n",
       "      <th>4301</th>\n",
       "      <td>53</td>\n",
       "      <td>0</td>\n",
       "      <td>0</td>\n",
       "      <td>886673</td>\n",
       "      <td>12719</td>\n",
       "      <td>858075</td>\n",
       "      <td>15879</td>\n",
       "      <td>1139.078325</td>\n",
       "      <td>1.434463</td>\n",
       "    </tr>\n",
       "    <tr>\n",
       "      <th>4302</th>\n",
       "      <td>25</td>\n",
       "      <td>1</td>\n",
       "      <td>0</td>\n",
       "      <td>886673</td>\n",
       "      <td>12719</td>\n",
       "      <td>858075</td>\n",
       "      <td>15879</td>\n",
       "      <td>1139.078325</td>\n",
       "      <td>1.434463</td>\n",
       "    </tr>\n",
       "    <tr>\n",
       "      <th>4303</th>\n",
       "      <td>34</td>\n",
       "      <td>1</td>\n",
       "      <td>0</td>\n",
       "      <td>997004</td>\n",
       "      <td>12567</td>\n",
       "      <td>956170</td>\n",
       "      <td>28267</td>\n",
       "      <td>1475.672533</td>\n",
       "      <td>1.260476</td>\n",
       "    </tr>\n",
       "  </tbody>\n",
       "</table>\n",
       "<p>4304 rows × 9 columns</p>\n",
       "</div>\n",
       "    <div class=\"colab-df-buttons\">\n",
       "\n",
       "  <div class=\"colab-df-container\">\n",
       "    <button class=\"colab-df-convert\" onclick=\"convertToInteractive('df-f2e051d3-7865-4de5-87e4-5139b02d78b5')\"\n",
       "            title=\"Convert this dataframe to an interactive table.\"\n",
       "            style=\"display:none;\">\n",
       "\n",
       "  <svg xmlns=\"http://www.w3.org/2000/svg\" height=\"24px\" viewBox=\"0 -960 960 960\">\n",
       "    <path d=\"M120-120v-720h720v720H120Zm60-500h600v-160H180v160Zm220 220h160v-160H400v160Zm0 220h160v-160H400v160ZM180-400h160v-160H180v160Zm440 0h160v-160H620v160ZM180-180h160v-160H180v160Zm440 0h160v-160H620v160Z\"/>\n",
       "  </svg>\n",
       "    </button>\n",
       "\n",
       "  <style>\n",
       "    .colab-df-container {\n",
       "      display:flex;\n",
       "      gap: 12px;\n",
       "    }\n",
       "\n",
       "    .colab-df-convert {\n",
       "      background-color: #E8F0FE;\n",
       "      border: none;\n",
       "      border-radius: 50%;\n",
       "      cursor: pointer;\n",
       "      display: none;\n",
       "      fill: #1967D2;\n",
       "      height: 32px;\n",
       "      padding: 0 0 0 0;\n",
       "      width: 32px;\n",
       "    }\n",
       "\n",
       "    .colab-df-convert:hover {\n",
       "      background-color: #E2EBFA;\n",
       "      box-shadow: 0px 1px 2px rgba(60, 64, 67, 0.3), 0px 1px 3px 1px rgba(60, 64, 67, 0.15);\n",
       "      fill: #174EA6;\n",
       "    }\n",
       "\n",
       "    .colab-df-buttons div {\n",
       "      margin-bottom: 4px;\n",
       "    }\n",
       "\n",
       "    [theme=dark] .colab-df-convert {\n",
       "      background-color: #3B4455;\n",
       "      fill: #D2E3FC;\n",
       "    }\n",
       "\n",
       "    [theme=dark] .colab-df-convert:hover {\n",
       "      background-color: #434B5C;\n",
       "      box-shadow: 0px 1px 3px 1px rgba(0, 0, 0, 0.15);\n",
       "      filter: drop-shadow(0px 1px 2px rgba(0, 0, 0, 0.3));\n",
       "      fill: #FFFFFF;\n",
       "    }\n",
       "  </style>\n",
       "\n",
       "    <script>\n",
       "      const buttonEl =\n",
       "        document.querySelector('#df-f2e051d3-7865-4de5-87e4-5139b02d78b5 button.colab-df-convert');\n",
       "      buttonEl.style.display =\n",
       "        google.colab.kernel.accessAllowed ? 'block' : 'none';\n",
       "\n",
       "      async function convertToInteractive(key) {\n",
       "        const element = document.querySelector('#df-f2e051d3-7865-4de5-87e4-5139b02d78b5');\n",
       "        const dataTable =\n",
       "          await google.colab.kernel.invokeFunction('convertToInteractive',\n",
       "                                                    [key], {});\n",
       "        if (!dataTable) return;\n",
       "\n",
       "        const docLinkHtml = 'Like what you see? Visit the ' +\n",
       "          '<a target=\"_blank\" href=https://colab.research.google.com/notebooks/data_table.ipynb>data table notebook</a>'\n",
       "          + ' to learn more about interactive tables.';\n",
       "        element.innerHTML = '';\n",
       "        dataTable['output_type'] = 'display_data';\n",
       "        await google.colab.output.renderOutput(dataTable, element);\n",
       "        const docLink = document.createElement('div');\n",
       "        docLink.innerHTML = docLinkHtml;\n",
       "        element.appendChild(docLink);\n",
       "      }\n",
       "    </script>\n",
       "  </div>\n",
       "\n",
       "\n",
       "<div id=\"df-ed7d9c4a-c7f0-4e1b-9f5c-09306dfc7bec\">\n",
       "  <button class=\"colab-df-quickchart\" onclick=\"quickchart('df-ed7d9c4a-c7f0-4e1b-9f5c-09306dfc7bec')\"\n",
       "            title=\"Suggest charts\"\n",
       "            style=\"display:none;\">\n",
       "\n",
       "<svg xmlns=\"http://www.w3.org/2000/svg\" height=\"24px\"viewBox=\"0 0 24 24\"\n",
       "     width=\"24px\">\n",
       "    <g>\n",
       "        <path d=\"M19 3H5c-1.1 0-2 .9-2 2v14c0 1.1.9 2 2 2h14c1.1 0 2-.9 2-2V5c0-1.1-.9-2-2-2zM9 17H7v-7h2v7zm4 0h-2V7h2v10zm4 0h-2v-4h2v4z\"/>\n",
       "    </g>\n",
       "</svg>\n",
       "  </button>\n",
       "\n",
       "<style>\n",
       "  .colab-df-quickchart {\n",
       "      --bg-color: #E8F0FE;\n",
       "      --fill-color: #1967D2;\n",
       "      --hover-bg-color: #E2EBFA;\n",
       "      --hover-fill-color: #174EA6;\n",
       "      --disabled-fill-color: #AAA;\n",
       "      --disabled-bg-color: #DDD;\n",
       "  }\n",
       "\n",
       "  [theme=dark] .colab-df-quickchart {\n",
       "      --bg-color: #3B4455;\n",
       "      --fill-color: #D2E3FC;\n",
       "      --hover-bg-color: #434B5C;\n",
       "      --hover-fill-color: #FFFFFF;\n",
       "      --disabled-bg-color: #3B4455;\n",
       "      --disabled-fill-color: #666;\n",
       "  }\n",
       "\n",
       "  .colab-df-quickchart {\n",
       "    background-color: var(--bg-color);\n",
       "    border: none;\n",
       "    border-radius: 50%;\n",
       "    cursor: pointer;\n",
       "    display: none;\n",
       "    fill: var(--fill-color);\n",
       "    height: 32px;\n",
       "    padding: 0;\n",
       "    width: 32px;\n",
       "  }\n",
       "\n",
       "  .colab-df-quickchart:hover {\n",
       "    background-color: var(--hover-bg-color);\n",
       "    box-shadow: 0 1px 2px rgba(60, 64, 67, 0.3), 0 1px 3px 1px rgba(60, 64, 67, 0.15);\n",
       "    fill: var(--button-hover-fill-color);\n",
       "  }\n",
       "\n",
       "  .colab-df-quickchart-complete:disabled,\n",
       "  .colab-df-quickchart-complete:disabled:hover {\n",
       "    background-color: var(--disabled-bg-color);\n",
       "    fill: var(--disabled-fill-color);\n",
       "    box-shadow: none;\n",
       "  }\n",
       "\n",
       "  .colab-df-spinner {\n",
       "    border: 2px solid var(--fill-color);\n",
       "    border-color: transparent;\n",
       "    border-bottom-color: var(--fill-color);\n",
       "    animation:\n",
       "      spin 1s steps(1) infinite;\n",
       "  }\n",
       "\n",
       "  @keyframes spin {\n",
       "    0% {\n",
       "      border-color: transparent;\n",
       "      border-bottom-color: var(--fill-color);\n",
       "      border-left-color: var(--fill-color);\n",
       "    }\n",
       "    20% {\n",
       "      border-color: transparent;\n",
       "      border-left-color: var(--fill-color);\n",
       "      border-top-color: var(--fill-color);\n",
       "    }\n",
       "    30% {\n",
       "      border-color: transparent;\n",
       "      border-left-color: var(--fill-color);\n",
       "      border-top-color: var(--fill-color);\n",
       "      border-right-color: var(--fill-color);\n",
       "    }\n",
       "    40% {\n",
       "      border-color: transparent;\n",
       "      border-right-color: var(--fill-color);\n",
       "      border-top-color: var(--fill-color);\n",
       "    }\n",
       "    60% {\n",
       "      border-color: transparent;\n",
       "      border-right-color: var(--fill-color);\n",
       "    }\n",
       "    80% {\n",
       "      border-color: transparent;\n",
       "      border-right-color: var(--fill-color);\n",
       "      border-bottom-color: var(--fill-color);\n",
       "    }\n",
       "    90% {\n",
       "      border-color: transparent;\n",
       "      border-bottom-color: var(--fill-color);\n",
       "    }\n",
       "  }\n",
       "</style>\n",
       "\n",
       "  <script>\n",
       "    async function quickchart(key) {\n",
       "      const quickchartButtonEl =\n",
       "        document.querySelector('#' + key + ' button');\n",
       "      quickchartButtonEl.disabled = true;  // To prevent multiple clicks.\n",
       "      quickchartButtonEl.classList.add('colab-df-spinner');\n",
       "      try {\n",
       "        const charts = await google.colab.kernel.invokeFunction(\n",
       "            'suggestCharts', [key], {});\n",
       "      } catch (error) {\n",
       "        console.error('Error during call to suggestCharts:', error);\n",
       "      }\n",
       "      quickchartButtonEl.classList.remove('colab-df-spinner');\n",
       "      quickchartButtonEl.classList.add('colab-df-quickchart-complete');\n",
       "    }\n",
       "    (() => {\n",
       "      let quickchartButtonEl =\n",
       "        document.querySelector('#df-ed7d9c4a-c7f0-4e1b-9f5c-09306dfc7bec button');\n",
       "      quickchartButtonEl.style.display =\n",
       "        google.colab.kernel.accessAllowed ? 'block' : 'none';\n",
       "    })();\n",
       "  </script>\n",
       "</div>\n",
       "\n",
       "  <div id=\"id_3252ad66-36bf-4d56-b0d1-ea66ac69fe1b\">\n",
       "    <style>\n",
       "      .colab-df-generate {\n",
       "        background-color: #E8F0FE;\n",
       "        border: none;\n",
       "        border-radius: 50%;\n",
       "        cursor: pointer;\n",
       "        display: none;\n",
       "        fill: #1967D2;\n",
       "        height: 32px;\n",
       "        padding: 0 0 0 0;\n",
       "        width: 32px;\n",
       "      }\n",
       "\n",
       "      .colab-df-generate:hover {\n",
       "        background-color: #E2EBFA;\n",
       "        box-shadow: 0px 1px 2px rgba(60, 64, 67, 0.3), 0px 1px 3px 1px rgba(60, 64, 67, 0.15);\n",
       "        fill: #174EA6;\n",
       "      }\n",
       "\n",
       "      [theme=dark] .colab-df-generate {\n",
       "        background-color: #3B4455;\n",
       "        fill: #D2E3FC;\n",
       "      }\n",
       "\n",
       "      [theme=dark] .colab-df-generate:hover {\n",
       "        background-color: #434B5C;\n",
       "        box-shadow: 0px 1px 3px 1px rgba(0, 0, 0, 0.15);\n",
       "        filter: drop-shadow(0px 1px 2px rgba(0, 0, 0, 0.3));\n",
       "        fill: #FFFFFF;\n",
       "      }\n",
       "    </style>\n",
       "    <button class=\"colab-df-generate\" onclick=\"generateWithVariable('unlabelled')\"\n",
       "            title=\"Generate code using this dataframe.\"\n",
       "            style=\"display:none;\">\n",
       "\n",
       "  <svg xmlns=\"http://www.w3.org/2000/svg\" height=\"24px\"viewBox=\"0 0 24 24\"\n",
       "       width=\"24px\">\n",
       "    <path d=\"M7,19H8.4L18.45,9,17,7.55,7,17.6ZM5,21V16.75L18.45,3.32a2,2,0,0,1,2.83,0l1.4,1.43a1.91,1.91,0,0,1,.58,1.4,1.91,1.91,0,0,1-.58,1.4L9.25,21ZM18.45,9,17,7.55Zm-12,3A5.31,5.31,0,0,0,4.9,8.1,5.31,5.31,0,0,0,1,6.5,5.31,5.31,0,0,0,4.9,4.9,5.31,5.31,0,0,0,6.5,1,5.31,5.31,0,0,0,8.1,4.9,5.31,5.31,0,0,0,12,6.5,5.46,5.46,0,0,0,6.5,12Z\"/>\n",
       "  </svg>\n",
       "    </button>\n",
       "    <script>\n",
       "      (() => {\n",
       "      const buttonEl =\n",
       "        document.querySelector('#id_3252ad66-36bf-4d56-b0d1-ea66ac69fe1b button.colab-df-generate');\n",
       "      buttonEl.style.display =\n",
       "        google.colab.kernel.accessAllowed ? 'block' : 'none';\n",
       "\n",
       "      buttonEl.onclick = () => {\n",
       "        google.colab.notebook.generateWithVariable('unlabelled');\n",
       "      }\n",
       "      })();\n",
       "    </script>\n",
       "  </div>\n",
       "\n",
       "    </div>\n",
       "  </div>\n"
      ],
      "application/vnd.google.colaboratory.intrinsic+json": {
       "type": "dataframe",
       "variable_name": "unlabelled",
       "summary": "{\n  \"name\": \"unlabelled\",\n  \"rows\": 4304,\n  \"fields\": [\n    {\n      \"column\": \"age\",\n      \"properties\": {\n        \"dtype\": \"number\",\n        \"std\": 18,\n        \"min\": 0,\n        \"max\": 101,\n        \"num_unique_values\": 96,\n        \"samples\": [\n          90,\n          86,\n          9\n        ],\n        \"semantic_type\": \"\",\n        \"description\": \"\"\n      }\n    },\n    {\n      \"column\": \"sex\",\n      \"properties\": {\n        \"dtype\": \"number\",\n        \"std\": 0,\n        \"min\": 0,\n        \"max\": 1,\n        \"num_unique_values\": 2,\n        \"samples\": [\n          1,\n          0\n        ],\n        \"semantic_type\": \"\",\n        \"description\": \"\"\n      }\n    },\n    {\n      \"column\": \"chronic_disease_binary\",\n      \"properties\": {\n        \"dtype\": \"number\",\n        \"std\": 0,\n        \"min\": 0,\n        \"max\": 1,\n        \"num_unique_values\": 2,\n        \"samples\": [\n          1,\n          0\n        ],\n        \"semantic_type\": \"\",\n        \"description\": \"\"\n      }\n    },\n    {\n      \"column\": \"Confirmed\",\n      \"properties\": {\n        \"dtype\": \"number\",\n        \"std\": 302816,\n        \"min\": 193,\n        \"max\": 4611392,\n        \"num_unique_values\": 51,\n        \"samples\": [\n          90583,\n          19550\n        ],\n        \"semantic_type\": \"\",\n        \"description\": \"\"\n      }\n    },\n    {\n      \"column\": \"Deaths\",\n      \"properties\": {\n        \"dtype\": \"number\",\n        \"std\": 5488,\n        \"min\": 2,\n        \"max\": 95052,\n        \"num_unique_values\": 49,\n        \"samples\": [\n          2818,\n          1523\n        ],\n        \"semantic_type\": \"\",\n        \"description\": \"\"\n      }\n    },\n    {\n      \"column\": \"Recovered\",\n      \"properties\": {\n        \"dtype\": \"number\",\n        \"std\": 282699,\n        \"min\": 186,\n        \"max\": 2400727,\n        \"num_unique_values\": 51,\n        \"samples\": [\n          88065,\n          16609\n        ],\n        \"semantic_type\": \"\",\n        \"description\": \"\"\n      }\n    },\n    {\n      \"column\": \"Active\",\n      \"properties\": {\n        \"dtype\": \"number\",\n        \"std\": 81273,\n        \"min\": 5,\n        \"max\": 4251829,\n        \"num_unique_values\": 51,\n        \"samples\": [\n          1775,\n          2823\n        ],\n        \"semantic_type\": \"\",\n        \"description\": \"\"\n      }\n    },\n    {\n      \"column\": \"Incident_Rate\",\n      \"properties\": {\n        \"dtype\": \"number\",\n        \"std\": 528.6952641589547,\n        \"min\": 0.523202251116872,\n        \"max\": 7530.47947102317,\n        \"num_unique_values\": 51,\n        \"samples\": [\n          291.517266869941,\n          878.364292492164\n        ],\n        \"semantic_type\": \"\",\n        \"description\": \"\"\n      }\n    },\n    {\n      \"column\": \"Case_Fatality_Ratio\",\n      \"properties\": {\n        \"dtype\": \"number\",\n        \"std\": 0.4146890535002881,\n        \"min\": 0.0496845034033884,\n        \"max\": 4.12938560815574,\n        \"num_unique_values\": 51,\n        \"samples\": [\n          0.820242208802976,\n          0.603580562659846\n        ],\n        \"semantic_type\": \"\",\n        \"description\": \"\"\n      }\n    }\n  ]\n}"
      }
     },
     "metadata": {},
     "execution_count": 10
    }
   ],
   "source": [
    "# convert sex, chronic_disease_binary, outcome group\n",
    "  # if date_confirmation included, maybe convert to timestamp, so distance is computable???\n",
    "\n",
    "def map_data(data):\n",
    "  columns = data.columns\n",
    "\n",
    "  if \"sex\" in columns:\n",
    "    # sex mapping: {\"male\": 1, \"female\": 0}\n",
    "    data[\"sex\"] = data[\"sex\"].apply( lambda row: (row == \"male\")*1 )\n",
    "\n",
    "  # chronic_disease_binary mapping\n",
    "  if \"chronic_disease_binary\" in columns:\n",
    "    data[\"chronic_disease_binary\"] = data[\"chronic_disease_binary\"].astype(int)\n",
    "\n",
    "  # if \"date_confirmation\" in columns:\n",
    "  #   data[\"date_confirmation\"] = data[\"date_confirmation\"].astype(np.int64)\n",
    "\n",
    "  outcome_mapping = {\"deceased\": 0, \"hospitalized\": 1, \"nonhospitalized\": 2}\n",
    "  # outcome group mapping\n",
    "  if \"outcome_group\" in columns:\n",
    "    data[\"outcome_group\"] = data[\"outcome_group\"].apply( lambda row: outcome_mapping.get(row, None) )\n",
    "  return data\n",
    "\n",
    "data = map_data(data)\n",
    "unlabelled = map_data(unlabelled)\n",
    "unlabelled"
   ]
  },
  {
   "cell_type": "code",
   "execution_count": 11,
   "metadata": {
    "colab": {
     "base_uri": "https://localhost:8080/"
    },
    "id": "ND50YTxJP8JG",
    "outputId": "33913cce-13b2-453c-aa37-676a2a1be44c"
   },
   "outputs": [
    {
     "output_type": "stream",
     "name": "stdout",
     "text": [
      "age                           18.000000\n",
      "sex                            0.000000\n",
      "chronic_disease_binary         0.000000\n",
      "Confirmed                 265527.000000\n",
      "Deaths                      1576.000000\n",
      "Recovered                 262371.000000\n",
      "Active                      1580.000000\n",
      "Incident_Rate                212.762145\n",
      "Case_Fatality_Ratio            0.593537\n",
      "outcome_group                  1.000000\n",
      "Name: 0, dtype: float64\n"
     ]
    }
   ],
   "source": [
    "print(data.iloc[0])"
   ]
  },
  {
   "cell_type": "markdown",
   "metadata": {
    "id": "49VA0zOK54hu"
   },
   "source": [
    "# 5. Balancing the classes in the training dataset"
   ]
  },
  {
   "cell_type": "code",
   "execution_count": null,
   "metadata": {
    "id": "aGUbiB_t56cO"
   },
   "outputs": [],
   "source": [
    "grouped = data.groupby(by=\"outcome_group\")\n",
    "\n",
    "print(grouped.size())\n",
    "\n",
    "# sample each group by the size of the most under-represented group\n",
    "min_sample_size = grouped.size().min()\n",
    "balanced_data = grouped.sample(n=min_sample_size)\n",
    "\n",
    "plt.hist(balanced_data[\"outcome_group\"].to_numpy())\n",
    "\n",
    "print()"
   ]
  },
  {
   "cell_type": "markdown",
   "metadata": {
    "id": "n_XZo-C368Q8"
   },
   "source": [
    "# 6. Building Models\n"
   ]
  },
  {
   "cell_type": "markdown",
   "metadata": {
    "id": "1YvdP-Xm7L0z"
   },
   "source": [
    "## Split the data\n"
   ]
  },
  {
   "cell_type": "code",
   "execution_count": 15,
   "metadata": {
    "id": "Ja1a9Sdr7LcF"
   },
   "outputs": [],
   "source": [
    "# X_train, X_test, y_train, y_test = train_test_split(balanced_data.iloc[:, :-1], balanced_data.iloc[:, -1], train_size=0.8)\n",
    "balanced_data_X = balanced_data.iloc[:, :-1]\n",
    "balanced_data_y = balanced_data.iloc[:, -1]"
   ]
  },
  {
   "cell_type": "markdown",
   "metadata": {
    "id": "VEk0qwNo1UPM"
   },
   "source": [
    "## Metric Function"
   ]
  },
  {
   "cell_type": "code",
   "execution_count": 16,
   "metadata": {
    "id": "G6w0mcIi1Tr_"
   },
   "outputs": [],
   "source": [
    "from sklearn.metrics import f1_score\n",
    "from sklearn.metrics import make_scorer\n",
    "\n",
    "# https://stackoverflow.com/questions/32401493/how-to-create-customize-your-own-scorer-function-in-scikit-learn\n",
    "\n",
    "# define custom scorings\n",
    "\n",
    "def deceased_f1_score(y_true, y_test):\n",
    "  f1_scores = f1_score( y_true , y_test, average=None )\n",
    "  deceased_f1_score = f1_scores[0]\n",
    "  return deceased_f1_score\n",
    "\n",
    "def mean_macro_f1_score(y_true, y_test):\n",
    "  f1_scores = f1_score( y_true , y_test, average=None )\n",
    "  return np.mean(f1_scores)\n",
    "\n",
    "def accuracy(y_true, y_test):\n",
    "  return np.sum(y_true == y_test) / y_true.shape[0]\n",
    "\n",
    "\n",
    "deceased_f1_scorer = make_scorer(deceased_f1_score, greater_is_better=True)\n",
    "mean_macro_f1_scorer = make_scorer(mean_macro_f1_score, greater_is_better=True)\n",
    "accuracy_scorer = make_scorer(accuracy, greater_is_better=True)\n"
   ]
  },
  {
   "cell_type": "markdown",
   "metadata": {
    "id": "ExXeqMVIS3Ly"
   },
   "source": [
    "## Grid Search, cross validation and training\n",
    "\n"
   ]
  },
  {
   "cell_type": "code",
   "execution_count": 17,
   "metadata": {
    "id": "YdhU-nTzS8LN"
   },
   "outputs": [],
   "source": [
    "from sklearn.model_selection import GridSearchCV\n",
    "import sys\n",
    "def grid_search(model, param_grid):\n",
    "  GS = GridSearchCV(\n",
    "      model,\n",
    "      param_grid,\n",
    "      refit=\"f1_macro\",\n",
    "      scoring={\"f1_deceased\": deceased_f1_scorer, \"f1_macro\": mean_macro_f1_scorer, \"accuracy\": accuracy_scorer},\n",
    "      verbose = 3,\n",
    "      return_train_score=True,\n",
    "      n_jobs = -1\n",
    "      )\n",
    "\n",
    "  # with open(f\"{model[0]}.txt\", \"w\") as f:\n",
    "  #   sys.stdout = f\n",
    "  #   GS.fit(balanced_data_X, balanced_data_y)\n",
    "  #   sys.stdout = sys.__stdout__\n",
    "\n",
    "  # create the estimator\n",
    "  GS.fit(balanced_data_X, balanced_data_y)\n",
    "  model = GS.best_estimator_\n",
    "  scores = pd.DataFrame( GS.cv_results_ )\n",
    "  scores = scores[ [\"mean_test_f1_deceased\", \"mean_test_f1_macro\", \"mean_test_accuracy\", \"mean_train_f1_deceased\", \"mean_train_f1_macro\", \"mean_train_accuracy\"] ]\n",
    "  print(scores.iloc[GS.best_index_])\n",
    "  print(\"Best parameters: \", GS.best_params_)\n",
    "  # return model, scores.iloc[GS.best_index_], f\n",
    "  return model, scores.iloc[GS.best_index_]\n",
    "\n"
   ]
  },
  {
   "cell_type": "code",
   "execution_count": 18,
   "metadata": {
    "id": "FhcVZCnp2tbL"
   },
   "outputs": [],
   "source": [
    "##create a dataframe with accuracies\n",
    "accuracies = pd.DataFrame(columns=[\"model\",\"mean_test_f1_deceased\", \"mean_test_f1_macro\", \"mean_test_accuracy\", \"mean_train_f1_deceased\", \"mean_train_f1_macro\", \"mean_train_accuracy\"])"
   ]
  },
  {
   "cell_type": "markdown",
   "metadata": {
    "id": "JgBbKYZo7Ami"
   },
   "source": [
    "## Model 1: **Random Forest** ✅\n"
   ]
  },
  {
   "cell_type": "code",
   "execution_count": 21,
   "metadata": {
    "id": "ijOj9j9sJ6vo",
    "colab": {
     "base_uri": "https://localhost:8080/"
    },
    "outputId": "223f59c3-828b-475f-ee23-0a3b095f2ff0"
   },
   "outputs": [
    {
     "output_type": "stream",
     "name": "stdout",
     "text": [
      "Fitting 5 folds for each of 11 candidates, totalling 55 fits\n",
      "mean_test_f1_deceased     0.695306\n",
      "mean_test_f1_macro        0.781108\n",
      "mean_test_accuracy        0.782014\n",
      "mean_train_f1_deceased    0.783917\n",
      "mean_train_f1_macro       0.851315\n",
      "mean_train_accuracy       0.852307\n",
      "Name: 4, dtype: float64\n",
      "Best parameters:  {'rf__n_estimators': 14}\n"
     ]
    }
   ],
   "source": [
    "# https://stackoverflow.com/questions/43366561/use-sklearns-gridsearchcv-with-a-pipeline-preprocessing-just-once\n",
    "from sklearn.ensemble import RandomForestClassifier\n",
    "\n",
    "param_grid = {\n",
    "    \"rf__n_estimators\": [i for i in range(10, 21, 1)],\n",
    "    # \"rf__min_samples_leaf\": [5,7,10, 20, 25, 30],\n",
    "    # 'rf__min_samples_split': [i for i in range(20,40,1)]\n",
    "}\n",
    "\n",
    "model = Pipeline(\n",
    "    [\n",
    "        (\"rf\", RandomForestClassifier())\n",
    "    ]\n",
    ")\n",
    "\n",
    "model = grid_search(model, param_grid)\n",
    "\n"
   ]
  },
  {
   "cell_type": "markdown",
   "metadata": {
    "id": "dx-gpFTrwupL"
   },
   "source": [
    "## Model 2: **Gradient Boosting Classifier** ✅\n"
   ]
  },
  {
   "cell_type": "code",
   "execution_count": 22,
   "metadata": {
    "id": "8l3y7p9PMh92",
    "colab": {
     "base_uri": "https://localhost:8080/"
    },
    "outputId": "31867563-39bb-4407-f3a2-309b8a494587"
   },
   "outputs": [
    {
     "output_type": "stream",
     "name": "stdout",
     "text": [
      "Fitting 5 folds for each of 24 candidates, totalling 120 fits\n",
      "mean_test_f1_deceased     0.707124\n",
      "mean_test_f1_macro        0.794069\n",
      "mean_test_accuracy        0.796394\n",
      "mean_train_f1_deceased    0.744444\n",
      "mean_train_f1_macro       0.822470\n",
      "mean_train_accuracy       0.824474\n",
      "Name: 12, dtype: float64\n",
      "Best parameters:  {'boost_tree__min_samples_leaf': 6, 'boost_tree__min_samples_split': 14}\n"
     ]
    }
   ],
   "source": [
    "from sklearn.ensemble import GradientBoostingClassifier\n",
    "\n",
    "param_grid = {\n",
    "    \"boost_tree__min_samples_split\": [i for i in range(6, 21, 2)],\n",
    "    \"boost_tree__min_samples_leaf\": [i for i in range(4, 10, 2)]\n",
    "}\n",
    "\n",
    "model = Pipeline(\n",
    "    [\n",
    "        (\"scaler\", StandardScaler()),\n",
    "        (\"boost_tree\", GradientBoostingClassifier())\n",
    "    ]\n",
    ")\n",
    "\n",
    "model= grid_search(model, param_grid)\n"
   ]
  },
  {
   "cell_type": "markdown",
   "metadata": {
    "id": "04vkaCnom8Uf"
   },
   "source": [
    "## Model 3: **Neural Network** ✅"
   ]
  },
  {
   "cell_type": "code",
   "execution_count": null,
   "metadata": {
    "id": "P5gtWpI6nlh3"
   },
   "outputs": [],
   "source": [
    "from sklearn.neural_network import MLPClassifier\n",
    "\n",
    "param_grid = {\n",
    "    'model__hidden_layer_sizes': [(12, 12, 4),(8, 10, 3), (10, 15, 3), (10, 20 ,3),],  # (10, 3), (12, 3) , (15, 3)\n",
    "    'model__activation': [ 'tanh'],\n",
    "    'model__max_iter': [2000],\n",
    "    # 'model__learning_rate': ['constant'],\n",
    "    'model__learning_rate_init': [0.00075, 0.0005, 0.001, 0.002, 0.005, 0.0075],\n",
    "    # 'model__alpha': [0.0001, 0.0005, 0.00075, 0.001, 0.0025, 0.005],\n",
    "}\n",
    "\n",
    "model = Pipeline([\n",
    "    (\"scaler\", StandardScaler()),\n",
    "    (\"model\", MLPClassifier(hidden_layer_sizes=(12,12,4), learning_rate=\"constant\", max_iter=2000, activation=\"tanh\", learning_rate_init = 0.005, alpha =  0.00075)) #{'model__activation': 'tanh', 'model__alpha': 0.00075, 'model__hidden_layer_sizes': (12, 12, 4), 'model__learning_rate': 'constant', 'model__learning_rate_init': 0.005, 'model__max_iter': 2000}\n",
    "    ]\n",
    ")\n",
    "\n",
    "model, _, outfile = grid_search(model, param_grid)\n",
    "\n"
   ]
  },
  {
   "cell_type": "markdown",
   "metadata": {
    "id": "tCxJLk9LvQ7O"
   },
   "source": [
    "## Model 4: **KNN** ✅"
   ]
  },
  {
   "cell_type": "code",
   "execution_count": null,
   "metadata": {
    "id": "ExsTFN3EDSNx"
   },
   "outputs": [],
   "source": [
    "from sklearn.model_selection import GridSearchCV\n",
    "from sklearn.neighbors import KNeighborsClassifier\n",
    "\n",
    "# https://stackoverflow.com/questions/43366561/use-sklearns-gridsearchcv-with-a-pipeline-preprocessing-just-once\n",
    "\n",
    "param_grid = {\n",
    "    \"knn__n_neighbors\": [i for i in range(1, 30)]\n",
    "}\n",
    "\n",
    "model = Pipeline(\n",
    "    [\n",
    "        (\"scaler\", StandardScaler()),\n",
    "        (\"knn\", KNeighborsClassifier())\n",
    "    ]\n",
    ")\n",
    "model= grid_search(model, param_grid)\n",
    "\n"
   ]
  },
  {
   "cell_type": "code",
   "execution_count": null,
   "metadata": {
    "id": "1asToPMV718t"
   },
   "outputs": [],
   "source": [
    "accuracies.to_csv(\"accuracies.csv\")\n"
   ]
  },
  {
   "cell_type": "markdown",
   "source": [
    "# 9. Prediction on the test set"
   ],
   "metadata": {
    "id": "dAGv19u9jFTI"
   }
  },
  {
   "cell_type": "code",
   "source": [
    "#As it was mentioned in part 8, the best model is Boosting Classifier\n",
    "import csv\n",
    "\n",
    "def create_submission_file(y_preds, file_name):\n",
    " with open(file_name, \"w\") as csvfile:\n",
    "  wr = csv.writer(csvfile, quoting=csv.QUOTE_ALL)\n",
    "  wr.writerow([\"Id\", \"Prediction\"])\n",
    "  for i, pred in enumerate(y_preds):\n",
    "    wr.writerow([str(i), str(pred)])\n",
    "\n",
    "\n",
    "x_pred = unlabelled[:-1]\n",
    "\n",
    "y_preds = model[0].predict(x_pred)\n",
    "create_submission_file(y_preds, \"2.submission_Boosting_Classifier.csv\")"
   ],
   "metadata": {
    "id": "kEgIhkJdjEcm"
   },
   "execution_count": 24,
   "outputs": []
  }
 ],
 "metadata": {
  "colab": {
   "machine_shape": "hm",
   "provenance": []
  },
  "kernelspec": {
   "display_name": "Python 3",
   "name": "python3"
  },
  "language_info": {
   "name": "python"
  }
 },
 "nbformat": 4,
 "nbformat_minor": 0
}
